{
 "cells": [
  {
   "cell_type": "code",
   "execution_count": 81,
   "metadata": {},
   "outputs": [],
   "source": [
    "from SafeTransformer import SafeTransformer\n",
    "from sklearn.datasets import load_iris\n",
    "import numpy as np\n",
    "from sklearn.model_selection import train_test_split\n",
    "data = load_iris()"
   ]
  },
  {
   "cell_type": "code",
   "execution_count": 82,
   "metadata": {},
   "outputs": [],
   "source": [
    "X = data.data\n",
    "y = data.target\n",
    "X_train, X_test, y_train, y_test = train_test_split(X, y)"
   ]
  },
  {
   "cell_type": "code",
   "execution_count": 83,
   "metadata": {},
   "outputs": [],
   "source": [
    "from sklearn.ensemble import GradientBoostingClassifier\n",
    "surrogate_model = GradientBoostingClassifier().fit(X_train, y_train)"
   ]
  },
  {
   "cell_type": "code",
   "execution_count": 84,
   "metadata": {},
   "outputs": [],
   "source": [
    "from sklearn.linear_model import LogisticRegression\n",
    "from sklearn.metrics import accuracy_score\n",
    "base_model = LogisticRegression().fit(X_train, y_train)\n",
    "base_predictions = base_model.predict(X_test)"
   ]
  },
  {
   "cell_type": "code",
   "execution_count": 85,
   "metadata": {},
   "outputs": [],
   "source": [
    "accs = []\n",
    "pens = [0.01, 5, 10, 25]\n",
    "best_score = 0\n",
    "best_pen = 0\n",
    "for pen in pens:\n",
    "    \n",
    "    safe_transformer = SafeTransformer()\n",
    "\n",
    "    safe_transformer = safe_transformer.fit(X_train, surrogate_model, penalty = pen)\n",
    "\n",
    "    X_train_transformed = safe_transformer.transform(X_train)\n",
    "\n",
    "    X_test_transformed = safe_transformer.transform(X_test)\n",
    "\n",
    "    logistic_model_transformed = LogisticRegression()\n",
    "\n",
    "    logistic_model_transformed = logistic_model_transformed.fit(X_train_transformed, y_train)\n",
    "\n",
    "    surrogate_predictions = logistic_model_transformed.predict(X_test_transformed)\n",
    "    acc = accuracy_score(y_test, surrogate_predictions)\n",
    "    accs.append(acc)\n",
    "    #print(mean_squared_error(y_test, standard_predictions), error)\n",
    "    if acc > best_score:\n",
    "        best_score = acc\n",
    "        best_pen = pen"
   ]
  },
  {
   "cell_type": "code",
   "execution_count": 86,
   "metadata": {},
   "outputs": [
    {
     "name": "stdout",
     "output_type": "stream",
     "text": [
      "0.23684210526315788\n",
      "0.9210526315789473\n",
      "0.9473684210526315\n"
     ]
    }
   ],
   "source": [
    "print(best_score)\n",
    "print(accuracy_score(y_test, base_predictions))\n",
    "print(accuracy_score(y_test, surrogate_model.predict(X_test)))"
   ]
  },
  {
   "cell_type": "code",
   "execution_count": 80,
   "metadata": {},
   "outputs": [
    {
     "data": {
      "text/plain": [
       "[0.3684210526315789,\n",
       " 0.3684210526315789,\n",
       " 0.3684210526315789,\n",
       " 0.3684210526315789]"
      ]
     },
     "execution_count": 80,
     "metadata": {},
     "output_type": "execute_result"
    }
   ],
   "source": [
    "accs"
   ]
  }
 ],
 "metadata": {
  "kernelspec": {
   "display_name": "Python 3",
   "language": "python",
   "name": "python3"
  },
  "language_info": {
   "codemirror_mode": {
    "name": "ipython",
    "version": 3
   },
   "file_extension": ".py",
   "mimetype": "text/x-python",
   "name": "python",
   "nbconvert_exporter": "python",
   "pygments_lexer": "ipython3",
   "version": "3.5.2"
  }
 },
 "nbformat": 4,
 "nbformat_minor": 2
}
