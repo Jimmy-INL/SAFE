{
 "cells": [
  {
   "cell_type": "code",
   "execution_count": 13,
   "metadata": {},
   "outputs": [],
   "source": [
    "from SafeTransformer import SafeTransformer\n",
    "from sklearn.datasets import load_digits\n",
    "import numpy as np\n",
    "from sklearn.model_selection import train_test_split\n",
    "data = load_digits()"
   ]
  },
  {
   "cell_type": "code",
   "execution_count": 14,
   "metadata": {},
   "outputs": [],
   "source": [
    "import pandas as pd\n",
    "X = pd.DataFrame(data.data)\n",
    "y = pd.Series(data.target)"
   ]
  },
  {
   "cell_type": "code",
   "execution_count": 15,
   "metadata": {},
   "outputs": [],
   "source": [
    "#X = X.loc[((y==7) | (y==2) | (y==4)), :]\n",
    "#y = y.loc[((y==7) | (y==2) | (y==4))]"
   ]
  },
  {
   "cell_type": "code",
   "execution_count": 16,
   "metadata": {},
   "outputs": [],
   "source": [
    "X_train, X_test, y_train, y_test = train_test_split(X, y)"
   ]
  },
  {
   "cell_type": "code",
   "execution_count": 17,
   "metadata": {},
   "outputs": [],
   "source": [
    "from sklearn.ensemble import GradientBoostingClassifier\n",
    "surrogate_model = GradientBoostingClassifier().fit(X_train, y_train)"
   ]
  },
  {
   "cell_type": "code",
   "execution_count": 18,
   "metadata": {},
   "outputs": [],
   "source": [
    "from sklearn.linear_model import LogisticRegression\n",
    "from sklearn.metrics import accuracy_score\n",
    "base_model = LogisticRegression().fit(X_train, y_train)\n",
    "base_predictions = base_model.predict(X_test)"
   ]
  },
  {
   "cell_type": "code",
   "execution_count": 19,
   "metadata": {},
   "outputs": [],
   "source": [
    "accs = []\n",
    "pens = [1]\n",
    "best_score = 0\n",
    "best_pen = 0\n",
    "for pen in pens:\n",
    "    \n",
    "    safe_transformer = SafeTransformer()\n",
    "\n",
    "    safe_transformer = safe_transformer.fit(X_train, surrogate_model, penalty = pen, pelt_model='l1')\n",
    "\n",
    "    X_train_transformed = safe_transformer.transform(X_train)\n",
    "\n",
    "    X_test_transformed = safe_transformer.transform(X_test)\n",
    "\n",
    "    logistic_model_transformed = LogisticRegression()\n",
    "    \n",
    "    logistic_model_transformed = logistic_model_transformed.fit(X_train_transformed, y_train)\n",
    "\n",
    "    surrogate_predictions = logistic_model_transformed.predict(X_test_transformed)\n",
    "    acc = accuracy_score(y_test, surrogate_predictions)\n",
    "    accs.append(acc)\n",
    "    #print(mean_squared_error(y_test, standard_predictions), error)\n",
    "    if acc > best_score:\n",
    "        best_score = acc\n",
    "        best_pen = pen"
   ]
  },
  {
   "cell_type": "code",
   "execution_count": 20,
   "metadata": {},
   "outputs": [
    {
     "name": "stdout",
     "output_type": "stream",
     "text": [
      "0.9155555555555556\n",
      "0.9666666666666667\n",
      "0.9755555555555555\n"
     ]
    }
   ],
   "source": [
    "print(best_score)\n",
    "print(accuracy_score(y_test, base_predictions))\n",
    "print(accuracy_score(y_test, surrogate_model.predict(X_test)))"
   ]
  },
  {
   "cell_type": "code",
   "execution_count": 21,
   "metadata": {},
   "outputs": [
    {
     "name": "stdout",
     "output_type": "stream",
     "text": [
      "[0.9155555555555556]\n"
     ]
    }
   ],
   "source": [
    "print(accs)"
   ]
  },
  {
   "cell_type": "code",
   "execution_count": 22,
   "metadata": {},
   "outputs": [
    {
     "data": {
      "text/plain": [
       "(450, 112)"
      ]
     },
     "execution_count": 22,
     "metadata": {},
     "output_type": "execute_result"
    }
   ],
   "source": [
    "X_test_transformed.shape"
   ]
  },
  {
   "cell_type": "code",
   "execution_count": 23,
   "metadata": {},
   "outputs": [
    {
     "data": {
      "text/plain": [
       "(450, 64)"
      ]
     },
     "execution_count": 23,
     "metadata": {},
     "output_type": "execute_result"
    }
   ],
   "source": [
    "X_test.shape"
   ]
  },
  {
   "cell_type": "code",
   "execution_count": 24,
   "metadata": {},
   "outputs": [
    {
     "data": {
      "text/html": [
       "<div>\n",
       "<style scoped>\n",
       "    .dataframe tbody tr th:only-of-type {\n",
       "        vertical-align: middle;\n",
       "    }\n",
       "\n",
       "    .dataframe tbody tr th {\n",
       "        vertical-align: top;\n",
       "    }\n",
       "\n",
       "    .dataframe thead th {\n",
       "        text-align: right;\n",
       "    }\n",
       "</style>\n",
       "<table border=\"1\" class=\"dataframe\">\n",
       "  <thead>\n",
       "    <tr style=\"text-align: right;\">\n",
       "      <th></th>\n",
       "      <th>0_(0.00, +Inf)</th>\n",
       "      <th>1_(8.00, +Inf)</th>\n",
       "      <th>2_(16.00, +Inf)</th>\n",
       "      <th>3_(16.00, +Inf)</th>\n",
       "      <th>4_(16.00, +Inf)</th>\n",
       "      <th>5_(6.47, 12.48)</th>\n",
       "      <th>5_(12.48, 16.00)</th>\n",
       "      <th>5_(16.00, +Inf)</th>\n",
       "      <th>6_(16.00, +Inf)</th>\n",
       "      <th>7_(15.00, +Inf)</th>\n",
       "      <th>...</th>\n",
       "      <th>59_(16.00, +Inf)</th>\n",
       "      <th>60_(0.46, 2.47)</th>\n",
       "      <th>60_(2.47, 7.51)</th>\n",
       "      <th>60_(7.51, 9.51)</th>\n",
       "      <th>60_(9.51, 16.00)</th>\n",
       "      <th>60_(16.00, +Inf)</th>\n",
       "      <th>61_(16.00, +Inf)</th>\n",
       "      <th>62_(16.00, +Inf)</th>\n",
       "      <th>63_(9.51, 16.00)</th>\n",
       "      <th>63_(16.00, +Inf)</th>\n",
       "    </tr>\n",
       "  </thead>\n",
       "  <tbody>\n",
       "    <tr>\n",
       "      <th>0.0</th>\n",
       "      <td>NaN</td>\n",
       "      <td>450.0</td>\n",
       "      <td>441</td>\n",
       "      <td>345</td>\n",
       "      <td>353</td>\n",
       "      <td>359</td>\n",
       "      <td>400</td>\n",
       "      <td>414</td>\n",
       "      <td>444</td>\n",
       "      <td>450.0</td>\n",
       "      <td>...</td>\n",
       "      <td>323</td>\n",
       "      <td>432</td>\n",
       "      <td>415</td>\n",
       "      <td>421</td>\n",
       "      <td>242</td>\n",
       "      <td>312</td>\n",
       "      <td>399</td>\n",
       "      <td>433</td>\n",
       "      <td>445</td>\n",
       "      <td>450.0</td>\n",
       "    </tr>\n",
       "    <tr>\n",
       "      <th>1.0</th>\n",
       "      <td>450.0</td>\n",
       "      <td>NaN</td>\n",
       "      <td>9</td>\n",
       "      <td>105</td>\n",
       "      <td>97</td>\n",
       "      <td>91</td>\n",
       "      <td>50</td>\n",
       "      <td>36</td>\n",
       "      <td>6</td>\n",
       "      <td>NaN</td>\n",
       "      <td>...</td>\n",
       "      <td>127</td>\n",
       "      <td>18</td>\n",
       "      <td>35</td>\n",
       "      <td>29</td>\n",
       "      <td>208</td>\n",
       "      <td>138</td>\n",
       "      <td>51</td>\n",
       "      <td>17</td>\n",
       "      <td>5</td>\n",
       "      <td>NaN</td>\n",
       "    </tr>\n",
       "  </tbody>\n",
       "</table>\n",
       "<p>2 rows × 112 columns</p>\n",
       "</div>"
      ],
      "text/plain": [
       "     0_(0.00, +Inf)  1_(8.00, +Inf)  2_(16.00, +Inf)  3_(16.00, +Inf)  \\\n",
       "0.0             NaN           450.0              441              345   \n",
       "1.0           450.0             NaN                9              105   \n",
       "\n",
       "     4_(16.00, +Inf)  5_(6.47, 12.48)  5_(12.48, 16.00)  5_(16.00, +Inf)  \\\n",
       "0.0              353              359               400              414   \n",
       "1.0               97               91                50               36   \n",
       "\n",
       "     6_(16.00, +Inf)  7_(15.00, +Inf)        ...         59_(16.00, +Inf)  \\\n",
       "0.0              444            450.0        ...                      323   \n",
       "1.0                6              NaN        ...                      127   \n",
       "\n",
       "     60_(0.46, 2.47)  60_(2.47, 7.51)  60_(7.51, 9.51)  60_(9.51, 16.00)  \\\n",
       "0.0              432              415              421               242   \n",
       "1.0               18               35               29               208   \n",
       "\n",
       "     60_(16.00, +Inf)  61_(16.00, +Inf)  62_(16.00, +Inf)  63_(9.51, 16.00)  \\\n",
       "0.0               312               399               433               445   \n",
       "1.0               138                51                17                 5   \n",
       "\n",
       "     63_(16.00, +Inf)  \n",
       "0.0             450.0  \n",
       "1.0               NaN  \n",
       "\n",
       "[2 rows x 112 columns]"
      ]
     },
     "execution_count": 24,
     "metadata": {},
     "output_type": "execute_result"
    }
   ],
   "source": [
    "X_test_transformed.apply(pd.value_counts)"
   ]
  },
  {
   "cell_type": "code",
   "execution_count": null,
   "metadata": {},
   "outputs": [],
   "source": []
  }
 ],
 "metadata": {
  "kernelspec": {
   "display_name": "Python 3",
   "language": "python",
   "name": "python3"
  },
  "language_info": {
   "codemirror_mode": {
    "name": "ipython",
    "version": 3
   },
   "file_extension": ".py",
   "mimetype": "text/x-python",
   "name": "python",
   "nbconvert_exporter": "python",
   "pygments_lexer": "ipython3",
   "version": "3.5.2"
  }
 },
 "nbformat": 4,
 "nbformat_minor": 2
}
