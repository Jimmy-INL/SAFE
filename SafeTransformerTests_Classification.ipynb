{
 "cells": [
  {
   "cell_type": "code",
   "execution_count": 61,
   "metadata": {},
   "outputs": [],
   "source": [
    "from SafeTransformer import SafeTransformer\n",
    "from sklearn.datasets import load_digits\n",
    "import numpy as np\n",
    "from sklearn.model_selection import train_test_split\n",
    "data = load_digits()"
   ]
  },
  {
   "cell_type": "code",
   "execution_count": 62,
   "metadata": {},
   "outputs": [],
   "source": [
    "import pandas as pd\n",
    "X = pd.DataFrame(data.data)\n",
    "y = pd.Series(data.target)"
   ]
  },
  {
   "cell_type": "code",
   "execution_count": 63,
   "metadata": {},
   "outputs": [],
   "source": [
    "X = X.loc[((y==7) | (y==2) | (y==4)), :]\n",
    "y = y.loc[((y==7) | (y==2) | (y==4))]"
   ]
  },
  {
   "cell_type": "code",
   "execution_count": 64,
   "metadata": {},
   "outputs": [],
   "source": [
    "X_train, X_test, y_train, y_test = train_test_split(X, y)"
   ]
  },
  {
   "cell_type": "code",
   "execution_count": 65,
   "metadata": {},
   "outputs": [],
   "source": [
    "from sklearn.ensemble import GradientBoostingClassifier\n",
    "surrogate_model = GradientBoostingClassifier().fit(X_train, y_train)"
   ]
  },
  {
   "cell_type": "code",
   "execution_count": 66,
   "metadata": {},
   "outputs": [],
   "source": [
    "from sklearn.linear_model import LogisticRegression\n",
    "from sklearn.metrics import accuracy_score\n",
    "base_model = LogisticRegression().fit(X_train, y_train)\n",
    "base_predictions = base_model.predict(X_test)"
   ]
  },
  {
   "cell_type": "code",
   "execution_count": 67,
   "metadata": {},
   "outputs": [],
   "source": [
    "accs = []\n",
    "pens = [1]\n",
    "best_score = 0\n",
    "best_pen = 0\n",
    "for pen in pens:\n",
    "    \n",
    "    safe_transformer = SafeTransformer()\n",
    "\n",
    "    safe_transformer = safe_transformer.fit(X_train, surrogate_model, penalty = pen)\n",
    "\n",
    "    X_train_transformed = safe_transformer.transform(X_train)\n",
    "\n",
    "    X_test_transformed = safe_transformer.transform(X_test)\n",
    "\n",
    "    logistic_model_transformed = LogisticRegression()\n",
    "    \n",
    "    logistic_model_transformed = logistic_model_transformed.fit(X_train_transformed, y_train)\n",
    "\n",
    "    surrogate_predictions = logistic_model_transformed.predict(X_test_transformed)\n",
    "    acc = accuracy_score(y_test, surrogate_predictions)\n",
    "    accs.append(acc)\n",
    "    #print(mean_squared_error(y_test, standard_predictions), error)\n",
    "    if acc > best_score:\n",
    "        best_score = acc\n",
    "        best_pen = pen"
   ]
  },
  {
   "cell_type": "code",
   "execution_count": 79,
   "metadata": {},
   "outputs": [
    {
     "name": "stdout",
     "output_type": "stream",
     "text": [
      "0.9185185185185185\n",
      "1.0\n",
      "0.9851851851851852\n"
     ]
    }
   ],
   "source": [
    "print(best_score)\n",
    "print(accuracy_score(y_test, base_predictions))\n",
    "print(accuracy_score(y_test, surrogate_model.predict(X_test)))"
   ]
  },
  {
   "cell_type": "code",
   "execution_count": 80,
   "metadata": {},
   "outputs": [
    {
     "name": "stdout",
     "output_type": "stream",
     "text": [
      "[0.9185185185185185]\n"
     ]
    }
   ],
   "source": [
    "print(accs)"
   ]
  },
  {
   "cell_type": "code",
   "execution_count": 83,
   "metadata": {},
   "outputs": [
    {
     "data": {
      "text/plain": [
       "(135, 64)"
      ]
     },
     "execution_count": 83,
     "metadata": {},
     "output_type": "execute_result"
    }
   ],
   "source": [
    "X_test_transformed.shape"
   ]
  },
  {
   "cell_type": "code",
   "execution_count": 82,
   "metadata": {},
   "outputs": [
    {
     "data": {
      "text/plain": [
       "(135, 64)"
      ]
     },
     "execution_count": 82,
     "metadata": {},
     "output_type": "execute_result"
    }
   ],
   "source": [
    "X_test.shape"
   ]
  },
  {
   "cell_type": "code",
   "execution_count": 85,
   "metadata": {},
   "outputs": [
    {
     "data": {
      "text/html": [
       "<div>\n",
       "<style scoped>\n",
       "    .dataframe tbody tr th:only-of-type {\n",
       "        vertical-align: middle;\n",
       "    }\n",
       "\n",
       "    .dataframe tbody tr th {\n",
       "        vertical-align: top;\n",
       "    }\n",
       "\n",
       "    .dataframe thead th {\n",
       "        text-align: right;\n",
       "    }\n",
       "</style>\n",
       "<table border=\"1\" class=\"dataframe\">\n",
       "  <thead>\n",
       "    <tr style=\"text-align: right;\">\n",
       "      <th></th>\n",
       "      <th>0_(0.00, +Inf)</th>\n",
       "      <th>1_(5.00, +Inf)</th>\n",
       "      <th>2_(16.00, +Inf)</th>\n",
       "      <th>3_(16.00, +Inf)</th>\n",
       "      <th>4_(16.00, +Inf)</th>\n",
       "      <th>5_(16.00, +Inf)</th>\n",
       "      <th>6_(16.00, +Inf)</th>\n",
       "      <th>7_(14.00, +Inf)</th>\n",
       "      <th>8_(2.00, +Inf)</th>\n",
       "      <th>9_(15.00, +Inf)</th>\n",
       "      <th>...</th>\n",
       "      <th>54_(16.00, +Inf)</th>\n",
       "      <th>55_(10.00, +Inf)</th>\n",
       "      <th>56_(1.00, +Inf)</th>\n",
       "      <th>57_(8.00, +Inf)</th>\n",
       "      <th>58_(16.00, +Inf)</th>\n",
       "      <th>59_(16.00, +Inf)</th>\n",
       "      <th>60_(16.00, +Inf)</th>\n",
       "      <th>61_(16.00, +Inf)</th>\n",
       "      <th>62_(16.00, +Inf)</th>\n",
       "      <th>63_(16.00, +Inf)</th>\n",
       "    </tr>\n",
       "  </thead>\n",
       "  <tbody>\n",
       "    <tr>\n",
       "      <th>0.0</th>\n",
       "      <td>NaN</td>\n",
       "      <td>133</td>\n",
       "      <td>132</td>\n",
       "      <td>98</td>\n",
       "      <td>95</td>\n",
       "      <td>119</td>\n",
       "      <td>133</td>\n",
       "      <td>135.0</td>\n",
       "      <td>135.0</td>\n",
       "      <td>135.0</td>\n",
       "      <td>...</td>\n",
       "      <td>133</td>\n",
       "      <td>135.0</td>\n",
       "      <td>135.0</td>\n",
       "      <td>134</td>\n",
       "      <td>125</td>\n",
       "      <td>102</td>\n",
       "      <td>107</td>\n",
       "      <td>123</td>\n",
       "      <td>130</td>\n",
       "      <td>135.0</td>\n",
       "    </tr>\n",
       "    <tr>\n",
       "      <th>1.0</th>\n",
       "      <td>135.0</td>\n",
       "      <td>2</td>\n",
       "      <td>3</td>\n",
       "      <td>37</td>\n",
       "      <td>40</td>\n",
       "      <td>16</td>\n",
       "      <td>2</td>\n",
       "      <td>NaN</td>\n",
       "      <td>NaN</td>\n",
       "      <td>NaN</td>\n",
       "      <td>...</td>\n",
       "      <td>2</td>\n",
       "      <td>NaN</td>\n",
       "      <td>NaN</td>\n",
       "      <td>1</td>\n",
       "      <td>10</td>\n",
       "      <td>33</td>\n",
       "      <td>28</td>\n",
       "      <td>12</td>\n",
       "      <td>5</td>\n",
       "      <td>NaN</td>\n",
       "    </tr>\n",
       "  </tbody>\n",
       "</table>\n",
       "<p>2 rows × 64 columns</p>\n",
       "</div>"
      ],
      "text/plain": [
       "     0_(0.00, +Inf)  1_(5.00, +Inf)  2_(16.00, +Inf)  3_(16.00, +Inf)  \\\n",
       "0.0             NaN             133              132               98   \n",
       "1.0           135.0               2                3               37   \n",
       "\n",
       "     4_(16.00, +Inf)  5_(16.00, +Inf)  6_(16.00, +Inf)  7_(14.00, +Inf)  \\\n",
       "0.0               95              119              133            135.0   \n",
       "1.0               40               16                2              NaN   \n",
       "\n",
       "     8_(2.00, +Inf)  9_(15.00, +Inf)        ...         54_(16.00, +Inf)  \\\n",
       "0.0           135.0            135.0        ...                      133   \n",
       "1.0             NaN              NaN        ...                        2   \n",
       "\n",
       "     55_(10.00, +Inf)  56_(1.00, +Inf)  57_(8.00, +Inf)  58_(16.00, +Inf)  \\\n",
       "0.0             135.0            135.0              134               125   \n",
       "1.0               NaN              NaN                1                10   \n",
       "\n",
       "     59_(16.00, +Inf)  60_(16.00, +Inf)  61_(16.00, +Inf)  62_(16.00, +Inf)  \\\n",
       "0.0               102               107               123               130   \n",
       "1.0                33                28                12                 5   \n",
       "\n",
       "     63_(16.00, +Inf)  \n",
       "0.0             135.0  \n",
       "1.0               NaN  \n",
       "\n",
       "[2 rows x 64 columns]"
      ]
     },
     "execution_count": 85,
     "metadata": {},
     "output_type": "execute_result"
    }
   ],
   "source": [
    "X_test_transformed.apply(pd.value_counts)"
   ]
  },
  {
   "cell_type": "code",
   "execution_count": null,
   "metadata": {},
   "outputs": [],
   "source": []
  }
 ],
 "metadata": {
  "kernelspec": {
   "display_name": "Python 3",
   "language": "python",
   "name": "python3"
  },
  "language_info": {
   "codemirror_mode": {
    "name": "ipython",
    "version": 3
   },
   "file_extension": ".py",
   "mimetype": "text/x-python",
   "name": "python",
   "nbconvert_exporter": "python",
   "pygments_lexer": "ipython3",
   "version": "3.5.2"
  }
 },
 "nbformat": 4,
 "nbformat_minor": 2
}
